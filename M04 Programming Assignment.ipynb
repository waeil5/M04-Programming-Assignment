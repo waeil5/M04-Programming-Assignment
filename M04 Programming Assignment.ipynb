{
 "cells": [
  {
   "cell_type": "markdown",
   "id": "af42bbec",
   "metadata": {},
   "source": [
    "created zoo.py contains hours()"
   ]
  },
  {
   "cell_type": "code",
   "execution_count": 1,
   "id": "01374c2d",
   "metadata": {},
   "outputs": [
    {
     "name": "stdout",
     "output_type": "stream",
     "text": [
      "Open 9-5 daily\n"
     ]
    }
   ],
   "source": [
    "def hours():\n",
    "    print(\"Open 9-5 daily\")"
   ]
  },
  {
   "cell_type": "markdown",
   "id": "f655de1d",
   "metadata": {},
   "source": [
    "imported zoo.py"
   ]
  },
  {
   "cell_type": "code",
   "execution_count": null,
   "id": "31b55c67",
   "metadata": {},
   "outputs": [],
   "source": [
    "import zoo\n",
    "zoo.hours()"
   ]
  },
  {
   "cell_type": "markdown",
   "id": "4527b974",
   "metadata": {},
   "source": [
    "imported zoo as menagerie and called hours"
   ]
  },
  {
   "cell_type": "code",
   "execution_count": null,
   "id": "86102141",
   "metadata": {},
   "outputs": [],
   "source": [
    "import zoo as menagerie\n",
    "menagerie.hours()"
   ]
  },
  {
   "cell_type": "markdown",
   "id": "52ad68f3",
   "metadata": {},
   "source": [
    "second homework"
   ]
  },
  {
   "cell_type": "code",
   "execution_count": null,
   "id": "3c9d7fc1",
   "metadata": {},
   "outputs": [],
   "source": [
    "import sqlalchemy as db\n",
    "from sqlalchemy import create_engine, select, Table, Column, String\n",
    "\n",
    "engine = create_engine('sqlite:///books.db')\n",
    "\n",
    "metadata = db.MetaData()\n",
    "book_table = Table('book', metadata,\n",
    "    Column('id', db.Integer, primary_key=True),\n",
    "    Column('title', String)\n",
    ")\n",
    "\n",
    "with engine.connect() as conn:\n",
    "    stmt = select([book_table.c.title]).order_by(book_table.c.title)\n",
    "    result = conn.execute(stmt)\n",
    "\n",
    "    for row in result:\n",
    "        print(row['title'])\n"
   ]
  }
 ],
 "metadata": {
  "kernelspec": {
   "display_name": "Python 3 (ipykernel)",
   "language": "python",
   "name": "python3"
  },
  "language_info": {
   "codemirror_mode": {
    "name": "ipython",
    "version": 3
   },
   "file_extension": ".py",
   "mimetype": "text/x-python",
   "name": "python",
   "nbconvert_exporter": "python",
   "pygments_lexer": "ipython3",
   "version": "3.10.9"
  }
 },
 "nbformat": 4,
 "nbformat_minor": 5
}
